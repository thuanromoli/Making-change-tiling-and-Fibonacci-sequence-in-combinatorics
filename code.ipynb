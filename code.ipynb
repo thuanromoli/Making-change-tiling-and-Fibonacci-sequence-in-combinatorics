{
 "cells": [
  {
   "cell_type": "markdown",
   "id": "893aa521",
   "metadata": {
    "deletable": false,
    "editable": false,
    "nbgrader": {
     "cell_type": "markdown",
     "checksum": "c4532f26c6026793ae7cc6bef0c6b0ee",
     "grade": false,
     "grade_id": "Q1-task",
     "locked": true,
     "schema_version": 3,
     "solution": false,
     "task": false
    }
   },
   "source": [
    "# Making Change"
   ]
  },
  {
   "cell_type": "markdown",
   "id": "6c751fb6",
   "metadata": {},
   "source": [
    "`Pence(n)` receives an integer $n$ and returns the number of ways to make $n$ pence in change when we only have the 1p coin available. If this value is non-zero, then the second value is a list of solution tuples."
   ]
  },
  {
   "cell_type": "code",
   "execution_count": 54,
   "id": "f34a95cc",
   "metadata": {
    "ExecuteTime": {
     "end_time": "2022-11-10T20:24:57.836558Z",
     "start_time": "2022-11-10T20:24:57.827911Z"
    },
    "nbgrader": {
     "cell_type": "code",
     "checksum": "5581f71b64a92640b210496195aad423",
     "grade": false,
     "grade_id": "Q1-answer",
     "locked": false,
     "schema_version": 3,
     "solution": true,
     "task": false
    }
   },
   "outputs": [],
   "source": [
    "# Number of ways\n",
    "def Pence(n):\n",
    "    if n < 0:\n",
    "        return(0)\n",
    "    else:\n",
    "        return(1)\n",
    " "
   ]
  },
  {
   "cell_type": "code",
   "execution_count": 55,
   "id": "4a54e6bb",
   "metadata": {
    "ExecuteTime": {
     "end_time": "2022-11-10T20:24:57.874099Z",
     "start_time": "2022-11-10T20:24:57.866013Z"
    },
    "nbgrader": {
     "cell_type": "code",
     "checksum": "9492360543b1b94170112fce01094c0a",
     "grade": false,
     "grade_id": "Q2-answer",
     "locked": false,
     "schema_version": 3,
     "solution": true,
     "task": false
    }
   },
   "outputs": [
    {
     "data": {
      "text/plain": [
       "(1, ())"
      ]
     },
     "execution_count": 55,
     "metadata": {},
     "output_type": "execute_result"
    }
   ],
   "source": [
    "# Number of ways and list of solution tuples\n",
    "def Pence(n):\n",
    "    \n",
    "    itemsintuple = []\n",
    "    \n",
    "    if n < 0:\n",
    "        return(0, None)\n",
    "    else:\n",
    "        for x in range (0,n):\n",
    "            itemsintuple.append(1)\n",
    "        return(1, tuple(itemsintuple))\n",
    "    \n",
    "Pence(0)"
   ]
  },
  {
   "cell_type": "markdown",
   "id": "b007ea55",
   "metadata": {
    "deletable": false,
    "editable": false,
    "nbgrader": {
     "cell_type": "markdown",
     "checksum": "b63747fc66335da8797d9393a11d4fff",
     "grade": false,
     "grade_id": "Q3-task",
     "locked": true,
     "schema_version": 3,
     "solution": false,
     "task": false
    }
   },
   "source": [
    "`FiveP(n)` receives an integer $n$ and returns the number of ways of ways to make $n$ pence in change when we only have the 5p coin available. If this value is non-zero, then the second value is a list of solution tuples, where the 5's occur at the start of the tuples."
   ]
  },
  {
   "cell_type": "code",
   "execution_count": 56,
   "id": "aa0a36bb",
   "metadata": {
    "ExecuteTime": {
     "end_time": "2022-11-10T20:24:57.907502Z",
     "start_time": "2022-11-10T20:24:57.894743Z"
    },
    "nbgrader": {
     "cell_type": "code",
     "checksum": "d2671af8ad3ca88751600a4586e18a3c",
     "grade": false,
     "grade_id": "Q3-answer",
     "locked": false,
     "schema_version": 3,
     "solution": true,
     "task": false
    },
    "run_control": {
     "marked": false
    }
   },
   "outputs": [],
   "source": [
    "# Number of ways\n",
    "def FiveP(n):\n",
    "    if n % 5 == 0 and n > 0:\n",
    "        return(1)\n",
    "    else:\n",
    "        return(0)"
   ]
  },
  {
   "cell_type": "code",
   "execution_count": 57,
   "id": "60611802",
   "metadata": {
    "ExecuteTime": {
     "end_time": "2022-11-10T20:24:57.938823Z",
     "start_time": "2022-11-10T20:24:57.925044Z"
    },
    "nbgrader": {
     "cell_type": "code",
     "checksum": "5c5ffe101d89646115b2df1a75c1fed8",
     "grade": false,
     "grade_id": "Q4-answer",
     "locked": false,
     "schema_version": 3,
     "solution": true,
     "task": false
    },
    "run_control": {
     "marked": false
    }
   },
   "outputs": [],
   "source": [
    "# Number of ways and list of solution tuples\n",
    "\n",
    "def FiveP(n):\n",
    "    \n",
    "    itemsintuple = []\n",
    "\n",
    "    if n % 5 == 0 and n > 0:\n",
    "        for x in range (0,n//5):\n",
    "            itemsintuple.append(5)\n",
    "        return(1, tuple(itemsintuple))\n",
    "    else:\n",
    "        return(0, None)"
   ]
  },
  {
   "cell_type": "markdown",
   "id": "bb4016d9",
   "metadata": {
    "deletable": false,
    "editable": false,
    "nbgrader": {
     "cell_type": "markdown",
     "checksum": "57d93ab78fbf7d96b0ad12b3574139d3",
     "grade": false,
     "grade_id": "Q5-task",
     "locked": true,
     "schema_version": 3,
     "solution": false,
     "task": false
    }
   },
   "source": [
    "`ChangeFivePandP(n)` receives an integer $n$ and returns the number of ways of ways to make $n$ pence in change when we have the 5p and 1p coin available. If this value is non-zero, then the second value is a list of solution tuples, where the 5's occur at the start of the tuples."
   ]
  },
  {
   "cell_type": "code",
   "execution_count": 58,
   "id": "f3c44cbb",
   "metadata": {
    "ExecuteTime": {
     "end_time": "2022-11-10T20:24:57.971060Z",
     "start_time": "2022-11-10T20:24:57.959196Z"
    },
    "nbgrader": {
     "cell_type": "code",
     "checksum": "d226bc3e08fb620fd54240f638ebc389",
     "grade": false,
     "grade_id": "Q5-answer",
     "locked": false,
     "schema_version": 3,
     "solution": true,
     "task": false
    }
   },
   "outputs": [],
   "source": [
    "# Number of ways\n",
    "def ChangeFivePandP(n):\n",
    "    floordiv = n // 5\n",
    "    if n < 0:\n",
    "        return(0)\n",
    "    else:\n",
    "        return(floordiv + 1)"
   ]
  },
  {
   "cell_type": "code",
   "execution_count": 59,
   "id": "48412eb5",
   "metadata": {
    "ExecuteTime": {
     "end_time": "2022-11-10T20:24:58.023820Z",
     "start_time": "2022-11-10T20:24:58.008281Z"
    },
    "nbgrader": {
     "cell_type": "code",
     "checksum": "2b691ca34d95f8356601835477a7bf16",
     "grade": false,
     "grade_id": "Q7-answer",
     "locked": false,
     "schema_version": 3,
     "solution": true,
     "task": false
    }
   },
   "outputs": [],
   "source": [
    "# Number of ways and list of solution tuples\n",
    "\n",
    "def ChangeFivePandP(n):\n",
    "    \n",
    "    listoftuples = []\n",
    "    \n",
    "    floordiv = n // 5\n",
    "    reminder = n % 5\n",
    "    waysofchoosing = floordiv + 1\n",
    "    \n",
    "    if n < 0:\n",
    "        return(0, listoftuples)\n",
    "    \n",
    "    else:\n",
    "        counter = 0\n",
    "        while counter < waysofchoosing:\n",
    "            temptuple = []\n",
    "            \n",
    "            if counter == 0:\n",
    "                for x in range(0,n):\n",
    "                    temptuple.append(1)\n",
    "                listoftuples.append(tuple(temptuple))\n",
    "                counter += 1\n",
    "                #print(f\"at counter {counter -1 } we have tuples {listoftuples}\")\n",
    "            else:\n",
    "                for x in range(0, counter):\n",
    "                    temptuple.append(5)\n",
    "                for x in range(n - 5*counter):\n",
    "                    temptuple.append(1)\n",
    "                    \n",
    "                listoftuples.append(tuple(temptuple))\n",
    "                counter += 1\n",
    "                #print(f\"at counter {counter -1 } we have tuples {listoftuples}\")\n",
    "            \n",
    "                \n",
    "       \n",
    "    return(waysofchoosing,listoftuples)"
   ]
  },
  {
   "cell_type": "markdown",
   "id": "ced3f434",
   "metadata": {
    "deletable": false,
    "editable": false,
    "nbgrader": {
     "cell_type": "markdown",
     "checksum": "a3ab1d26558b089ab47cc308012aa2c9",
     "grade": false,
     "grade_id": "Q8-task",
     "locked": true,
     "schema_version": 3,
     "solution": false,
     "task": false
    }
   },
   "source": [
    "`ChangeTenPFivePandP(n)` returns the number of ways of making $n$ pence when we have the 10p, 5p, and 1p coins available."
   ]
  },
  {
   "cell_type": "code",
   "execution_count": 60,
   "id": "7b08b241",
   "metadata": {
    "ExecuteTime": {
     "end_time": "2022-11-10T20:24:58.062372Z",
     "start_time": "2022-11-10T20:24:58.048124Z"
    },
    "nbgrader": {
     "cell_type": "code",
     "checksum": "7bf3cb6173bdcb082d5c293f2a6e8d97",
     "grade": false,
     "grade_id": "Q8-answer",
     "locked": false,
     "schema_version": 3,
     "solution": true,
     "task": false
    }
   },
   "outputs": [],
   "source": [
    "def ChangeTenPFivePandP(n):\n",
    "    count = 0\n",
    "    for x in range(n // 10 + 1):  # x = number of 10p coins\n",
    "        for y in range((n - 10 * x) // 5 + 1):  # y = number of 5p coins\n",
    "            z = n - 10 * x - 5 * y  # z = number of 1p coins\n",
    "            if z >= 0:\n",
    "                count += 1\n",
    "    return count\n"
   ]
  },
  {
   "cell_type": "markdown",
   "id": "c8e390f1",
   "metadata": {
    "deletable": false,
    "editable": false,
    "nbgrader": {
     "cell_type": "markdown",
     "checksum": "ac8b2b318bbb55942014d9c6d615cb7b",
     "grade": false,
     "grade_id": "cell-ed949bf248eaf2a9",
     "locked": true,
     "schema_version": 3,
     "solution": false,
     "task": false
    }
   },
   "source": [
    "# Tiling"
   ]
  },
  {
   "cell_type": "markdown",
   "id": "8049eafb",
   "metadata": {},
   "source": [
    "`ChangeTwoPandP(n)` returns the number of ways and list of solution tuples to making $n$ pence when we have 2p and 1p coins available"
   ]
  },
  {
   "cell_type": "code",
   "execution_count": 61,
   "id": "e4e32986",
   "metadata": {
    "ExecuteTime": {
     "end_time": "2022-11-10T20:24:58.098555Z",
     "start_time": "2022-11-10T20:24:58.082341Z"
    },
    "nbgrader": {
     "cell_type": "code",
     "checksum": "4802947f103f9aafd3475d67418fd68e",
     "grade": false,
     "grade_id": "Q10-answer",
     "locked": false,
     "schema_version": 3,
     "solution": true,
     "task": false
    },
    "run_control": {
     "marked": false
    }
   },
   "outputs": [],
   "source": [
    "\n",
    "\n",
    "def ChangeTwoPandP(n):\n",
    "    \n",
    "    listoftuples = []\n",
    "    \n",
    "    floordiv = n // 2\n",
    "    reminder = n % 2\n",
    "    waysofchoosing = floordiv + 1\n",
    "    \n",
    "    if n < 0:\n",
    "        return(0, listoftuples)\n",
    "    \n",
    "    else:\n",
    "        counter = 0\n",
    "        while counter < waysofchoosing:\n",
    "            temptuple = []\n",
    "            \n",
    "            if counter == 0:\n",
    "                for x in range(0,n):\n",
    "                    temptuple.append(1)\n",
    "                listoftuples.append(tuple(temptuple))\n",
    "                counter += 1\n",
    "                #print(f\"at counter {counter -1 } we have tuples {temptuple}\")\n",
    "            else:\n",
    "                for x in range(0, counter):\n",
    "                    temptuple.append(2)\n",
    "                for x in range(n - 2*counter):\n",
    "                    temptuple.append(1)\n",
    "                    \n",
    "                listoftuples.append(tuple(temptuple))\n",
    "                counter += 1\n",
    "                #print(f\"at counter {counter -1 } we have tuples {temptuple}\")\n",
    "            \n",
    "                \n",
    "       \n",
    "    return(waysofchoosing,listoftuples)"
   ]
  },
  {
   "cell_type": "markdown",
   "id": "758b3f54",
   "metadata": {
    "deletable": false,
    "editable": false,
    "nbgrader": {
     "cell_type": "markdown",
     "checksum": "fbacfc7256f05d1ebc54414f778e8aa1",
     "grade": false,
     "grade_id": "Q11-task",
     "locked": true,
     "schema_version": 3,
     "solution": false,
     "task": false
    }
   },
   "source": [
    "`TilePermutations(seq)` takes a change sequence of 2s and 1s as in `ChangeTwoPandP(n)`, and returns a list containing all of the distinct permutations of that sequence in some order."
   ]
  },
  {
   "cell_type": "code",
   "execution_count": 62,
   "id": "bd5563fd",
   "metadata": {
    "ExecuteTime": {
     "end_time": "2022-11-10T20:24:58.136806Z",
     "start_time": "2022-11-10T20:24:58.119160Z"
    }
   },
   "outputs": [],
   "source": [
    "import itertools\n",
    "def TilePermutations(seq):\n",
    "    \n",
    "    seq_list = list(seq)\n",
    "    seq_size = len(seq_list)\n",
    "    n_of_twos = 0\n",
    "    \n",
    "    #the code below is to determine the positions where 2s are located\n",
    "\n",
    "    pos_for_twos = []\n",
    "    \n",
    "    for i in range(0,seq_size):\n",
    "        if seq_list[i] == 2:\n",
    "            n_of_twos += 1\n",
    "            \n",
    "    for i in range(0, seq_size):\n",
    "        pos_for_twos.append(i)\n",
    "        \n",
    "    permutations = list(itertools.combinations(pos_for_twos,n_of_twos))\n",
    "\n",
    "    #the code below is to create the required list\n",
    "    \n",
    "    list_of_permutations =[]\n",
    "    \n",
    "    #here we iterate through all the different possible permutations\n",
    "    for i in range(0, len(permutations)):\n",
    "        ith_permutation = []\n",
    "        while_counter = 0\n",
    "        twos_counter = 0\n",
    "        \n",
    "        #here we create the ith permutation\n",
    "        \n",
    "        #first, we start by creating an array of ones\n",
    "        for t in range(0, seq_size):\n",
    "            ith_permutation.append(1)\n",
    "\n",
    "        #then we determine wich positions the twos must be places and then replace\n",
    "        #if the position matches the counter\n",
    "        for x in range(0, n_of_twos):\n",
    "            position = permutations[i][x]\n",
    "            ith_permutation[position] = 2\n",
    "        list_of_permutations.append(tuple(ith_permutation))\n",
    "            \n",
    "                 \n",
    "    return(list_of_permutations)"
   ]
  },
  {
   "cell_type": "markdown",
   "id": "7a898563",
   "metadata": {
    "deletable": false,
    "editable": false,
    "nbgrader": {
     "cell_type": "markdown",
     "checksum": "b5cc46d9b00d6175fd066154774d77f5",
     "grade": false,
     "grade_id": "Q12-task",
     "locked": true,
     "schema_version": 3,
     "solution": false,
     "task": false
    }
   },
   "source": [
    "`TilingString(seq)` takes an input sequence of ones and twos and returns the corresponding tiling"
   ]
  },
  {
   "cell_type": "code",
   "execution_count": 63,
   "id": "22826e98",
   "metadata": {
    "ExecuteTime": {
     "end_time": "2022-11-10T20:24:58.174091Z",
     "start_time": "2022-11-10T20:24:58.164096Z"
    },
    "nbgrader": {
     "cell_type": "code",
     "checksum": "bf085bc444e0c78153e3ab633da8521c",
     "grade": false,
     "grade_id": "Q12-answer",
     "locked": false,
     "schema_version": 3,
     "solution": true,
     "task": false
    }
   },
   "outputs": [],
   "source": [
    "def TilingString(seq):\n",
    "    seq_list = list(seq)\n",
    "    seq_length = len(seq_list)\n",
    "    string = \"\"\n",
    "    for i in range(0,seq_length):\n",
    "        if seq_list[i] == 1:\n",
    "            string += '|'\n",
    "        else:\n",
    "            string += '='\n",
    "    return(string)"
   ]
  },
  {
   "cell_type": "markdown",
   "id": "ce4973bf",
   "metadata": {
    "deletable": false,
    "editable": false,
    "nbgrader": {
     "cell_type": "markdown",
     "checksum": "4e043c8f6a725c0cc033e9bde4ceafa4",
     "grade": false,
     "grade_id": "Q13-task",
     "locked": true,
     "points": 1,
     "schema_version": 3,
     "solution": false,
     "task": true
    }
   },
   "source": [
    "`PrintTilingsLength(n)` uses `ChangeTwoPandP(n)` and `TilingString(seq)` to print all distinct tilings for an $n\\times 2$ walkway (in some order)."
   ]
  },
  {
   "cell_type": "code",
   "execution_count": 64,
   "id": "feb96a56",
   "metadata": {},
   "outputs": [
    {
     "name": "stdout",
     "output_type": "stream",
     "text": [
      "|||||\n",
      "=|||\n",
      "==|\n"
     ]
    }
   ],
   "source": [
    "def PrintTilingsLength(n):\n",
    "    changetwopandp = ChangeTwoPandP(n)\n",
    "    for x in changetwopandp[1]:\n",
    "        print(TilingString(x))\n",
    "\n",
    "PrintTilingsLength(5)"
   ]
  },
  {
   "cell_type": "markdown",
   "id": "3326dee4",
   "metadata": {
    "deletable": false,
    "editable": false,
    "nbgrader": {
     "cell_type": "markdown",
     "checksum": "f310c57c07653338a9f07a2cbecb1b3f",
     "grade": false,
     "grade_id": "Q14-task",
     "locked": true,
     "schema_version": 3,
     "solution": false,
     "task": false
    }
   },
   "source": [
    "`TilingsCount(n)` uses `ChangeTwoPandP(n)` and `TilePermutations(n)` to count all valid tilings for an $n \\times 2$ walkway."
   ]
  },
  {
   "cell_type": "code",
   "execution_count": 65,
   "id": "bc22d184",
   "metadata": {},
   "outputs": [
    {
     "name": "stdout",
     "output_type": "stream",
     "text": [
      "1\n",
      "1\n",
      "2\n",
      "3\n",
      "5\n",
      "8\n",
      "13\n",
      "21\n"
     ]
    }
   ],
   "source": [
    "def TilingsCount(n):\n",
    "    floordiv = n // 2\n",
    "    waysofchoosing = floordiv + 1\n",
    "\n",
    "    changetwopandp = ChangeTwoPandP(n)[1]\n",
    "    counter = 0\n",
    "    for i in range(0,waysofchoosing):\n",
    "        counter += len(TilePermutations(changetwopandp[i]))\n",
    "    return(counter)\n",
    "\n",
    "for i in range(8):\n",
    "    print(TilingsCount(i))"
   ]
  },
  {
   "cell_type": "code",
   "execution_count": 66,
   "id": "e7faedb8",
   "metadata": {
    "ExecuteTime": {
     "end_time": "2022-11-10T20:24:58.269838Z",
     "start_time": "2022-11-10T20:24:58.251805Z"
    },
    "nbgrader": {
     "cell_type": "code",
     "checksum": "68183d19f26f66204789c8e139c8ef99",
     "grade": false,
     "grade_id": "Q15-answer",
     "locked": false,
     "schema_version": 3,
     "solution": true,
     "task": false
    }
   },
   "outputs": [
    {
     "name": "stdout",
     "output_type": "stream",
     "text": [
      "TilingsCount(0)=1 and fib(0)=1 so TilingsCount(0)=fib(0)\n",
      "TilingsCount(1)=1 and fib(1)=1 so TilingsCount(1)=fib(1)\n",
      "TilingsCount(2)=2 and fib(2)=2 so TilingsCount(2)=fib(2)\n",
      "TilingsCount(3)=3 and fib(3)=3 so TilingsCount(3)=fib(3)\n",
      "TilingsCount(4)=5 and fib(4)=5 so TilingsCount(4)=fib(4)\n",
      "TilingsCount(5)=8 and fib(5)=8 so TilingsCount(5)=fib(5)\n",
      "TilingsCount(6)=13 and fib(6)=13 so TilingsCount(6)=fib(6)\n",
      "TilingsCount(7)=21 and fib(7)=21 so TilingsCount(7)=fib(7)\n",
      "TilingsCount(8)=34 and fib(8)=34 so TilingsCount(8)=fib(8)\n",
      "TilingsCount(9)=55 and fib(9)=55 so TilingsCount(9)=fib(9)\n"
     ]
    }
   ],
   "source": [
    "def fib(n):\n",
    "    if n == 0: return 1\n",
    "    elif n == 1: return 1\n",
    "    else: return fib(n-1)+fib(n-2)\n",
    "\n",
    "for i in range(0,10):\n",
    "    if TilingsCount(i) == fib(i):\n",
    "        print(f\"TilingsCount({i})={TilingsCount(i)} and fib({i})={fib(i)} so TilingsCount({i})=fib({i})\")\n",
    "    else:\n",
    "        print(f\"TilingsCount({i})={TilingsCount(i)} and fib({i})={fib(i)} so TilingsCount({i})=/=fib({i})\")\n"
   ]
  },
  {
   "cell_type": "code",
   "execution_count": 67,
   "id": "4764491b",
   "metadata": {
    "ExecuteTime": {
     "end_time": "2022-11-10T20:24:58.295185Z",
     "start_time": "2022-11-10T20:24:58.272523Z"
    },
    "nbgrader": {
     "cell_type": "code",
     "checksum": "ca8d26d11a40b9efd2032eb2dcb1f92d",
     "grade": false,
     "grade_id": "Q17-answer",
     "locked": false,
     "schema_version": 3,
     "solution": true,
     "task": false
    }
   },
   "outputs": [
    {
     "data": {
      "text/plain": [
       "13"
      ]
     },
     "execution_count": 67,
     "metadata": {},
     "output_type": "execute_result"
    }
   ],
   "source": [
    "def FTC(n):\n",
    "    a, b = 1, 2\n",
    "    for i in range(1,n):\n",
    "        a, b = b, a+b\n",
    "    return a\n",
    "FTC(6)"
   ]
  }
 ],
 "metadata": {
  "kernelspec": {
   "display_name": "base",
   "language": "python",
   "name": "python3"
  },
  "language_info": {
   "codemirror_mode": {
    "name": "ipython",
    "version": 3
   },
   "file_extension": ".py",
   "mimetype": "text/x-python",
   "name": "python",
   "nbconvert_exporter": "python",
   "pygments_lexer": "ipython3",
   "version": "3.11.7"
  },
  "toc": {
   "base_numbering": 1,
   "nav_menu": {},
   "number_sections": false,
   "sideBar": true,
   "skip_h1_title": false,
   "title_cell": "Table of Contents",
   "title_sidebar": "Contents",
   "toc_cell": false,
   "toc_position": {
    "height": "calc(100% - 180px)",
    "left": "10px",
    "top": "150px",
    "width": "384px"
   },
   "toc_section_display": true,
   "toc_window_display": false
  },
  "varInspector": {
   "cols": {
    "lenName": 16,
    "lenType": 16,
    "lenVar": 40
   },
   "kernels_config": {
    "python": {
     "delete_cmd_postfix": "",
     "delete_cmd_prefix": "del ",
     "library": "var_list.py",
     "varRefreshCmd": "print(var_dic_list())"
    },
    "r": {
     "delete_cmd_postfix": ") ",
     "delete_cmd_prefix": "rm(",
     "library": "var_list.r",
     "varRefreshCmd": "cat(var_dic_list()) "
    }
   },
   "types_to_exclude": [
    "module",
    "function",
    "builtin_function_or_method",
    "instance",
    "_Feature"
   ],
   "window_display": false
  }
 },
 "nbformat": 4,
 "nbformat_minor": 5
}
